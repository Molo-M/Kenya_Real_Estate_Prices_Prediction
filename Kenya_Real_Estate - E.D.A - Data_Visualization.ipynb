{
 "cells": [
  {
   "cell_type": "markdown",
   "id": "4c40dba5",
   "metadata": {},
   "source": [
    "#                                  Kenya Real Estate Prices Prediction"
   ]
  },
  {
   "cell_type": "markdown",
   "id": "861b784d",
   "metadata": {},
   "source": [
    "## Session 4: Exploring the data"
   ]
  },
  {
   "cell_type": "markdown",
   "id": "27305b9a",
   "metadata": {},
   "source": [
    "In this session, the scraped data will be explored with the help of visualization libraries like ```Seaborn``` and ```matplotlib```. This will enable us to understand the Real Estate Data that we collected."
   ]
  },
  {
   "cell_type": "markdown",
   "id": "7033f4c2",
   "metadata": {},
   "source": [
    "### Objectives:\n",
    "* Explore the data\n",
    "* See if there are features (variables) that have a strong relationship with the price. "
   ]
  },
  {
   "cell_type": "markdown",
   "id": "5196ae44",
   "metadata": {},
   "source": [
    "Import some useful libraries:"
   ]
  },
  {
   "cell_type": "code",
   "execution_count": 1,
   "id": "42aa2c56",
   "metadata": {},
   "outputs": [],
   "source": [
    "import pandas as pd\n",
    "import matplotlib.pyplot as plt\n",
    "import seaborn as sns\n",
    "import numpy as np"
   ]
  },
  {
   "cell_type": "markdown",
   "id": "db21468a",
   "metadata": {},
   "source": [
    "### Exploratory Data Analysis"
   ]
  },
  {
   "cell_type": "markdown",
   "id": "a35c42df",
   "metadata": {},
   "source": [
    "Load the Real Estate Data"
   ]
  },
  {
   "cell_type": "code",
   "execution_count": 2,
   "id": "0eef9a2b",
   "metadata": {},
   "outputs": [
    {
     "name": "stdout",
     "output_type": "stream",
     "text": [
      "<class 'pandas.core.frame.DataFrame'>\n",
      "RangeIndex: 6944 entries, 0 to 6943\n",
      "Data columns (total 9 columns):\n",
      " #   Column         Non-Null Count  Dtype  \n",
      "---  ------         --------------  -----  \n",
      " 0   Title          6944 non-null   object \n",
      " 1   URL            6944 non-null   object \n",
      " 2   Bedrooms       4581 non-null   float64\n",
      " 3   Bathrooms      3835 non-null   float64\n",
      " 4   Location       6944 non-null   object \n",
      " 5   Property Type  6944 non-null   object \n",
      " 6   Price ($)      6881 non-null   float64\n",
      " 7   Size (m²)      2543 non-null   float64\n",
      " 8   County         5696 non-null   object \n",
      "dtypes: float64(4), object(5)\n",
      "memory usage: 488.4+ KB\n"
     ]
    }
   ],
   "source": [
    "df = pd.read_csv('Real_Estate_Data.csv')\n",
    "df.info()"
   ]
  },
  {
   "cell_type": "markdown",
   "id": "9a36896c",
   "metadata": {},
   "source": [
    "Let us see what our data looks like in tabular form."
   ]
  },
  {
   "cell_type": "code",
   "execution_count": 3,
   "id": "e8510d2f",
   "metadata": {},
   "outputs": [
    {
     "data": {
      "text/html": [
       "<div>\n",
       "<style scoped>\n",
       "    .dataframe tbody tr th:only-of-type {\n",
       "        vertical-align: middle;\n",
       "    }\n",
       "\n",
       "    .dataframe tbody tr th {\n",
       "        vertical-align: top;\n",
       "    }\n",
       "\n",
       "    .dataframe thead th {\n",
       "        text-align: right;\n",
       "    }\n",
       "</style>\n",
       "<table border=\"1\" class=\"dataframe\">\n",
       "  <thead>\n",
       "    <tr style=\"text-align: right;\">\n",
       "      <th></th>\n",
       "      <th>Title</th>\n",
       "      <th>URL</th>\n",
       "      <th>Bedrooms</th>\n",
       "      <th>Bathrooms</th>\n",
       "      <th>Location</th>\n",
       "      <th>Property Type</th>\n",
       "      <th>Price ($)</th>\n",
       "      <th>Size (m²)</th>\n",
       "      <th>County</th>\n",
       "    </tr>\n",
       "  </thead>\n",
       "  <tbody>\n",
       "    <tr>\n",
       "      <th>0</th>\n",
       "      <td>5 Bedroom House For Sale In Parklands</td>\n",
       "      <td>https://www.buyrentkenya.com/listings/5-bedroo...</td>\n",
       "      <td>5.0</td>\n",
       "      <td>3.0</td>\n",
       "      <td>Off 2nd Parklands, Parklands, Westlands</td>\n",
       "      <td>House</td>\n",
       "      <td>362850.97</td>\n",
       "      <td>NaN</td>\n",
       "      <td>Nairobi</td>\n",
       "    </tr>\n",
       "    <tr>\n",
       "      <th>1</th>\n",
       "      <td>Land For Sale In Kilifi</td>\n",
       "      <td>https://www.buyrentkenya.com/listings/land-for...</td>\n",
       "      <td>NaN</td>\n",
       "      <td>NaN</td>\n",
       "      <td>Kilifi, Kilifi North</td>\n",
       "      <td>Land</td>\n",
       "      <td>302375.81</td>\n",
       "      <td>NaN</td>\n",
       "      <td>Kilifi</td>\n",
       "    </tr>\n",
       "    <tr>\n",
       "      <th>2</th>\n",
       "      <td>0.5 Ac Land For Sale In Tigoni</td>\n",
       "      <td>https://www.buyrentkenya.com/listings/05-ac-la...</td>\n",
       "      <td>NaN</td>\n",
       "      <td>NaN</td>\n",
       "      <td>Tigoni, Tigoni, Limuru</td>\n",
       "      <td>Land</td>\n",
       "      <td>86393.09</td>\n",
       "      <td>NaN</td>\n",
       "      <td>Kiambu</td>\n",
       "    </tr>\n",
       "    <tr>\n",
       "      <th>3</th>\n",
       "      <td>3 Bedroom Apartment For Sale In Thindigua</td>\n",
       "      <td>https://www.buyrentkenya.com/listings/3-bedroo...</td>\n",
       "      <td>3.0</td>\n",
       "      <td>NaN</td>\n",
       "      <td>Thindigua, Thindigua</td>\n",
       "      <td>Apartment</td>\n",
       "      <td>112311.02</td>\n",
       "      <td>NaN</td>\n",
       "      <td>NaN</td>\n",
       "    </tr>\n",
       "    <tr>\n",
       "      <th>4</th>\n",
       "      <td>2 Bedroom Apartment For Sale In Kilimani</td>\n",
       "      <td>https://www.buyrentkenya.com/listings/2-bedroo...</td>\n",
       "      <td>2.0</td>\n",
       "      <td>2.0</td>\n",
       "      <td>Kilimani, Dagoretti North</td>\n",
       "      <td>Apartment</td>\n",
       "      <td>99352.05</td>\n",
       "      <td>125.0</td>\n",
       "      <td>Nairobi</td>\n",
       "    </tr>\n",
       "    <tr>\n",
       "      <th>...</th>\n",
       "      <td>...</td>\n",
       "      <td>...</td>\n",
       "      <td>...</td>\n",
       "      <td>...</td>\n",
       "      <td>...</td>\n",
       "      <td>...</td>\n",
       "      <td>...</td>\n",
       "      <td>...</td>\n",
       "      <td>...</td>\n",
       "    </tr>\n",
       "    <tr>\n",
       "      <th>6939</th>\n",
       "      <td>5 Bedroom House For Sale In Ngong</td>\n",
       "      <td>https://www.buyrentkenya.com/listings/5-bedroo...</td>\n",
       "      <td>5.0</td>\n",
       "      <td>6.0</td>\n",
       "      <td>Ngong, Kajiado North</td>\n",
       "      <td>House</td>\n",
       "      <td>129589.63</td>\n",
       "      <td>NaN</td>\n",
       "      <td>Kajiado</td>\n",
       "    </tr>\n",
       "    <tr>\n",
       "      <th>6940</th>\n",
       "      <td>500 M² Residential Land For Sale In Ongata Rongai</td>\n",
       "      <td>https://www.buyrentkenya.com/listings/500-m2-r...</td>\n",
       "      <td>NaN</td>\n",
       "      <td>NaN</td>\n",
       "      <td>Ongata Rongai, Kajiado North</td>\n",
       "      <td>Land</td>\n",
       "      <td>30237.58</td>\n",
       "      <td>500.0</td>\n",
       "      <td>Nakuru</td>\n",
       "    </tr>\n",
       "    <tr>\n",
       "      <th>6941</th>\n",
       "      <td>1 Bedroom Apartment For Sale In Kileleshwa</td>\n",
       "      <td>https://www.buyrentkenya.com/listings/1-bedroo...</td>\n",
       "      <td>1.0</td>\n",
       "      <td>1.0</td>\n",
       "      <td>Kileleshwa, Kileleshwa, Dagoretti North</td>\n",
       "      <td>Apartment</td>\n",
       "      <td>56155.51</td>\n",
       "      <td>66.0</td>\n",
       "      <td>Nairobi</td>\n",
       "    </tr>\n",
       "    <tr>\n",
       "      <th>6942</th>\n",
       "      <td>5 Bedroom Villa For Sale In Lavington</td>\n",
       "      <td>https://www.buyrentkenya.com/listings/5-bedroo...</td>\n",
       "      <td>5.0</td>\n",
       "      <td>5.0</td>\n",
       "      <td>Lavington, Dagoretti North</td>\n",
       "      <td>House</td>\n",
       "      <td>734341.25</td>\n",
       "      <td>NaN</td>\n",
       "      <td>Nairobi</td>\n",
       "    </tr>\n",
       "    <tr>\n",
       "      <th>6943</th>\n",
       "      <td>12.5 Ac Commercial Land For Sale In Tigoni</td>\n",
       "      <td>https://www.buyrentkenya.com/listings/125-ac-c...</td>\n",
       "      <td>NaN</td>\n",
       "      <td>NaN</td>\n",
       "      <td>Riara Ridge, Tigoni, Limuru</td>\n",
       "      <td>Land</td>\n",
       "      <td>1727861.77</td>\n",
       "      <td>48564.0</td>\n",
       "      <td>Kiambu</td>\n",
       "    </tr>\n",
       "  </tbody>\n",
       "</table>\n",
       "<p>6944 rows × 9 columns</p>\n",
       "</div>"
      ],
      "text/plain": [
       "                                                  Title  \\\n",
       "0                 5 Bedroom House For Sale In Parklands   \n",
       "1                               Land For Sale In Kilifi   \n",
       "2                        0.5 Ac Land For Sale In Tigoni   \n",
       "3             3 Bedroom Apartment For Sale In Thindigua   \n",
       "4              2 Bedroom Apartment For Sale In Kilimani   \n",
       "...                                                 ...   \n",
       "6939                  5 Bedroom House For Sale In Ngong   \n",
       "6940  500 M² Residential Land For Sale In Ongata Rongai   \n",
       "6941         1 Bedroom Apartment For Sale In Kileleshwa   \n",
       "6942              5 Bedroom Villa For Sale In Lavington   \n",
       "6943         12.5 Ac Commercial Land For Sale In Tigoni   \n",
       "\n",
       "                                                    URL  Bedrooms  Bathrooms  \\\n",
       "0     https://www.buyrentkenya.com/listings/5-bedroo...       5.0        3.0   \n",
       "1     https://www.buyrentkenya.com/listings/land-for...       NaN        NaN   \n",
       "2     https://www.buyrentkenya.com/listings/05-ac-la...       NaN        NaN   \n",
       "3     https://www.buyrentkenya.com/listings/3-bedroo...       3.0        NaN   \n",
       "4     https://www.buyrentkenya.com/listings/2-bedroo...       2.0        2.0   \n",
       "...                                                 ...       ...        ...   \n",
       "6939  https://www.buyrentkenya.com/listings/5-bedroo...       5.0        6.0   \n",
       "6940  https://www.buyrentkenya.com/listings/500-m2-r...       NaN        NaN   \n",
       "6941  https://www.buyrentkenya.com/listings/1-bedroo...       1.0        1.0   \n",
       "6942  https://www.buyrentkenya.com/listings/5-bedroo...       5.0        5.0   \n",
       "6943  https://www.buyrentkenya.com/listings/125-ac-c...       NaN        NaN   \n",
       "\n",
       "                                     Location Property Type   Price ($)  \\\n",
       "0     Off 2nd Parklands, Parklands, Westlands         House   362850.97   \n",
       "1                        Kilifi, Kilifi North          Land   302375.81   \n",
       "2                      Tigoni, Tigoni, Limuru          Land    86393.09   \n",
       "3                        Thindigua, Thindigua     Apartment   112311.02   \n",
       "4                   Kilimani, Dagoretti North     Apartment    99352.05   \n",
       "...                                       ...           ...         ...   \n",
       "6939                     Ngong, Kajiado North         House   129589.63   \n",
       "6940             Ongata Rongai, Kajiado North          Land    30237.58   \n",
       "6941  Kileleshwa, Kileleshwa, Dagoretti North     Apartment    56155.51   \n",
       "6942               Lavington, Dagoretti North         House   734341.25   \n",
       "6943              Riara Ridge, Tigoni, Limuru          Land  1727861.77   \n",
       "\n",
       "      Size (m²)    County  \n",
       "0           NaN  Nairobi   \n",
       "1           NaN   Kilifi   \n",
       "2           NaN   Kiambu   \n",
       "3           NaN       NaN  \n",
       "4         125.0  Nairobi   \n",
       "...         ...       ...  \n",
       "6939        NaN  Kajiado   \n",
       "6940      500.0   Nakuru   \n",
       "6941       66.0  Nairobi   \n",
       "6942        NaN  Nairobi   \n",
       "6943    48564.0   Kiambu   \n",
       "\n",
       "[6944 rows x 9 columns]"
      ]
     },
     "execution_count": 3,
     "metadata": {},
     "output_type": "execute_result"
    }
   ],
   "source": [
    "df"
   ]
  },
  {
   "cell_type": "markdown",
   "id": "22184bff",
   "metadata": {},
   "source": [
    "### 1. Visualize relationships between Variables"
   ]
  },
  {
   "cell_type": "markdown",
   "id": "225f8028",
   "metadata": {},
   "source": [
    "Create a correlation matrix using Pearson's Correlation. Then save the matrix as a data frame in the variable ```cor```."
   ]
  },
  {
   "cell_type": "markdown",
   "id": "01d5e493",
   "metadata": {},
   "source": [
    "This will show the correlation of all our numerical data:"
   ]
  },
  {
   "cell_type": "code",
   "execution_count": 4,
   "id": "16059468",
   "metadata": {},
   "outputs": [],
   "source": [
    "df_2 = df[['Bedrooms', 'Bathrooms', 'Price ($)', 'Size (m²)']]\n",
    "cor = df_2.corr(method='pearson')"
   ]
  },
  {
   "cell_type": "markdown",
   "id": "bc2be6c5",
   "metadata": {},
   "source": [
    "Visualize the correlation using a Heat Map. **1** means that there is a very strong positive correlation, while **-1** means that there is a very strong negative correlation. **0** indicates that there is no relationship between the two variables."
   ]
  },
  {
   "cell_type": "code",
   "execution_count": 5,
   "id": "16262375",
   "metadata": {
    "scrolled": false
   },
   "outputs": [
    {
     "data": {
      "image/png": "[encoded data removed]",
      "text/plain": [
       "<Figure size 720x720 with 2 Axes>"
      ]
     },
     "metadata": {
      "needs_background": "light"
     },
     "output_type": "display_data"
    }
   ],
   "source": [
    "plt.figure(figsize=(10,10))\n",
    "\n",
    "# creating a colormap\n",
    "col = sns.color_palette(\"rocket_r\", 125)\n",
    "\n",
    "sns.heatmap(cor, annot=True, linewidths=1, cmap=col)\n",
    "plt.title(\"Pearson's Correlation Matrix\" );"
   ]
  },
  {
   "cell_type": "markdown",
   "id": "486ef3af",
   "metadata": {},
   "source": [
    "**Observation**:\n",
    "\n",
    "\n",
    "The number of Bedrooms and Bathrooms appear to be moderately correlated with Prices. It is interesting to see that the prices were not influenced by the size of the property. This may indicate that there are other factors influencing the sellers to list these prices."
   ]
  },
  {
   "cell_type": "markdown",
   "id": "8a640c3b",
   "metadata": {},
   "source": [
    "### 2. Distributions of Bedrooms and Bathrooms"
   ]
  },
  {
   "cell_type": "markdown",
   "id": "f813ca9c",
   "metadata": {},
   "source": [
    "Let us view the distributions of bedrooms and bathrooms"
   ]
  },
  {
   "cell_type": "code",
   "execution_count": 6,
   "id": "2af2f607",
   "metadata": {
    "scrolled": true
   },
   "outputs": [
    {
     "data": {
      "image/png": "[encoded data removed]",
      "text/plain": [
       "<Figure size 1152x360 with 2 Axes>"
      ]
     },
     "metadata": {
      "needs_background": "light"
     },
     "output_type": "display_data"
    }
   ],
   "source": [
    "figure, axis = plt.subplots(1, 2, figsize=(16, 5))\n",
    "\n",
    "\n",
    "sns.histplot(data=df, x='Bedrooms', ax=axis[0], discrete=True)\n",
    "axis[0].set_title('Bedrooms')\n",
    "\n",
    "sns.histplot(data=df, x='Bathrooms', ax=axis[1], discrete=True)\n",
    "axis[1].set_title('Bathrooms');"
   ]
  },
  {
   "cell_type": "markdown",
   "id": "fed7f7c2",
   "metadata": {},
   "source": [
    "**Obseravtions:**\n",
    "\n",
    "It seems that most properties have between 3 and 4 bedrooms. There are fewer properties with a number of bedrooms less than or greater than 3 bedrooms.\n",
    "\n",
    "In contrast, the left skew of the graph on the **right**, indicates that most most properties have a bathroom number less than or equal to 4."
   ]
  },
  {
   "cell_type": "markdown",
   "id": "f5a3bb28",
   "metadata": {},
   "source": [
    "### 3. Size compared to Bedrooms and Bathrooms"
   ]
  },
  {
   "cell_type": "markdown",
   "id": "33fdbf2f",
   "metadata": {},
   "source": [
    "Let us check whether the number of bedrooms or bathrooms will influence the size of the property."
   ]
  },
  {
   "cell_type": "code",
   "execution_count": 7,
   "id": "37ffea54",
   "metadata": {
    "scrolled": false
   },
   "outputs": [
    {
     "data": {
      "image/png": "[encoded data removed]",
      "text/plain": [
       "<Figure size 1080x360 with 2 Axes>"
      ]
     },
     "metadata": {
      "needs_background": "light"
     },
     "output_type": "display_data"
    }
   ],
   "source": [
    "# exclude land data from dataframe because plots of land to do not have bedrooms and bathrooms\n",
    "df_2 = df[df['Property Type'] != 'Land']\n",
    "\n",
    "# exclude properties where Size contains null values.\n",
    "df_2 = df_2[df_2['Size (m²)'].notnull()]\n",
    "\n",
    "figure, axis = plt.subplots(1, 2, figsize=(15, 5))\n",
    "\n",
    "sns.lineplot(data=df_2, x='Bedrooms', y='Size (m²)', ax=axis[0])\n",
    "axis[0].set_title('Bedrooms to Size Trend')\n",
    "\n",
    "sns.lineplot(data=df_2, x='Bathrooms', y='Size (m²)', ax=axis[1])\n",
    "axis[1].set_title('Bathrooms to Size Trend');\n"
   ]
  },
  {
   "cell_type": "markdown",
   "id": "8b34e8c3",
   "metadata": {},
   "source": [
    "**Observation:**\n",
    "\n",
    "It appears that the number of Bedrooms and Bathrooms do not increase with size of the property. There may be other factors influencing size of the property."
   ]
  },
  {
   "cell_type": "markdown",
   "id": "e17666b0",
   "metadata": {},
   "source": [
    "### 4. Prices vs Property Type"
   ]
  },
  {
   "cell_type": "markdown",
   "id": "b5a57051",
   "metadata": {},
   "source": [
    "Let us now visualize the distribution of these prices according to their property type."
   ]
  },
  {
   "cell_type": "code",
   "execution_count": 8,
   "id": "e3f489f8",
   "metadata": {
    "scrolled": false
   },
   "outputs": [
    {
     "data": {
      "image/png": "[encoded data removed]",
      "text/plain": [
       "<Figure size 936x504 with 2 Axes>"
      ]
     },
     "metadata": {
      "needs_background": "light"
     },
     "output_type": "display_data"
    }
   ],
   "source": [
    "figure, axis = plt.subplots(1, 2, figsize=(13, 7))\n",
    "\n",
    "# Box and Whiskers Graph Without Outliers\n",
    "sns.boxplot(y=df['Price ($)'], x=df['Property Type'], data=df, showfliers=False, ax=axis[0])\n",
    "axis[0].set_title('Box and Whiskers Graph Without Outliers')\n",
    "axis[0].set_ylabel('Prices (1 Million)')\n",
    "\n",
    "# Box and Whiskers Graph With Outliers\n",
    "sns.boxplot(y=df['Price ($)'], x=df['Property Type'], data=df, ax=axis[1])\n",
    "axis[1].set_title('Box and Whiskers Graph With Outliers')\n",
    "axis[1].set_ylabel('Prices (10 Million)')\n",
    "\n",
    "# space between graphs\n",
    "plt.tight_layout(pad=3);"
   ]
  },
  {
   "cell_type": "markdown",
   "id": "c10bae33",
   "metadata": {},
   "source": [
    "**Observation**:\n",
    "\n",
    "Looking at the graph on the **left**, we can see that houses tend to have higher prices, followed by Land (plots for sale) and Apartments. This matches our real world understanding of Real Estate since Houses which have an added value of constructed shelter will tend to be more expensive. \n",
    "\n",
    "However if we look at the graph on the **right**, we can see that the most expensive properties are plots of land. These prices are outliers (they don't reflect the majority of the properties). This means that there's a select group of sellers hiking up prices compared to the majority of property prices."
   ]
  },
  {
   "cell_type": "markdown",
   "id": "52db408b",
   "metadata": {},
   "source": [
    "## Authors\n",
    "\n",
    "<a href=\"https://www.linkedin.com/in/molomunyansanga/\">Molo Munyansanga</a> is a Data Science enthusiast with certificates in Statistics, Data Science and Machine Learning. He is also enrolled in the Deep Learning Specialization by DeepLearning.AI"
   ]
  },
  {
   "cell_type": "markdown",
   "id": "8207f181",
   "metadata": {},
   "source": [
    "## Change Log\n",
    "\n",
    "| Date (YYYY-MM-DD) | Version | Changed By    | Change Description      |\n",
    "| ----------------- | ------- | ------------- | ----------------------- |\n",
    "| 2022-05-09        | 1       | Molo. M       | Created Notebook and Completed Tasks         |"
   ]
  }
 ],
 "metadata": {
  "kernelspec": {
   "display_name": "Python 3 (ipykernel)",
   "language": "python",
   "name": "python3"
  },
  "language_info": {
   "codemirror_mode": {
    "name": "ipython",
    "version": 3
   },
   "file_extension": ".py",
   "mimetype": "text/x-python",
   "name": "python",
   "nbconvert_exporter": "python",
   "pygments_lexer": "ipython3",
   "version": "3.9.7"
  }
 },
 "nbformat": 4,
 "nbformat_minor": 5
}
